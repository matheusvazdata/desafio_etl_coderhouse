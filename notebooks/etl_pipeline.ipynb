{
 "cells": [
  {
   "cell_type": "markdown",
   "metadata": {},
   "source": [
    "### 1. Importação das bibliotecas"
   ]
  },
  {
   "cell_type": "code",
   "execution_count": null,
   "metadata": {},
   "outputs": [],
   "source": [
    "import requests\n",
    "import pandas as pd\n",
    "import sqlite3\n",
    "from plyer import notification\n",
    "from datetime import datetime\n",
    "import os"
   ]
  },
  {
   "cell_type": "markdown",
   "metadata": {},
   "source": [
    "### 2. Função de criação do alerta"
   ]
  },
  {
   "cell_type": "code",
   "execution_count": null,
   "metadata": {},
   "outputs": [],
   "source": [
    "def enviar_alerta(nivel, base, etapa):\n",
    "    if nivel == 1:\n",
    "        alerta = 'Baixo'\n",
    "    elif nivel == 2:\n",
    "        alerta = 'Médio'\n",
    "    else:\n",
    "        alerta = 'Alto'\n",
    "\n",
    "    titulo = f\"Alerta {alerta}\"\n",
    "    mensagem = f\"Falha no carregamento da base {base} na etapa {etapa} \\n{datetime.now()}\"\n",
    "    notification.notify(\n",
    "        title=titulo,\n",
    "        message=mensagem,\n",
    "        app_name=\"etl_pipeline\",\n",
    "        timeout=10\n",
    "    )"
   ]
  },
  {
   "cell_type": "markdown",
   "metadata": {},
   "source": [
    "### 3. Obtendo dados da API"
   ]
  },
  {
   "cell_type": "code",
   "execution_count": null,
   "metadata": {},
   "outputs": [],
   "source": [
    "def obter_dados_da_api(url):\n",
    "    resposta = requests.get(url)\n",
    "    if resposta.status_code == 200:\n",
    "        return resposta.json()\n",
    "    else:\n",
    "        enviar_alerta(3, url, \"Extração\")\n",
    "        print(f\"ERRO: Falha ao buscar dados da API. Código de status: {resposta.status_code}\")\n",
    "        return None"
   ]
  },
  {
   "cell_type": "markdown",
   "metadata": {},
   "source": [
    "### 4. Extração todas as páginas de uma API paginada"
   ]
  },
  {
   "cell_type": "code",
   "execution_count": null,
   "metadata": {},
   "outputs": [],
   "source": [
    "def extrair_todas_paginas(base_url):\n",
    "    resultados = []\n",
    "    url = base_url\n",
    "    while url:\n",
    "        dados = obter_dados_da_api(url)\n",
    "        if dados:\n",
    "            resultados.extend(dados['results'])\n",
    "            url = dados.get('next')\n",
    "        else:\n",
    "            break\n",
    "    return resultados"
   ]
  },
  {
   "cell_type": "markdown",
   "metadata": {},
   "source": [
    "### 5. Extração dos dados de pokemons"
   ]
  },
  {
   "cell_type": "code",
   "execution_count": null,
   "metadata": {},
   "outputs": [],
   "source": [
    "def extrair_pokemons(limite=50):\n",
    "    url = f'https://pokeapi.co/api/v2/pokemon?limit={limite}'\n",
    "    dados = obter_dados_da_api(url)\n",
    "    pokemons = []\n",
    "    \n",
    "    for item in dados['results']:\n",
    "        dados_pokemon = obter_dados_da_api(item['url'])\n",
    "        if dados_pokemon:\n",
    "            habilidades = [int(habilidade['ability']['url'].split('/')[-2]) for habilidade in dados_pokemon['abilities']]\n",
    "            tipos = [int(tipo['type']['url'].split('/')[-2]) for tipo in dados_pokemon['types']]\n",
    "            pokemons.append({\n",
    "                'id': dados_pokemon['id'],\n",
    "                'nome': dados_pokemon['name'],\n",
    "                'experiencia_base': dados_pokemon['base_experience'],\n",
    "                'altura': dados_pokemon['height'],\n",
    "                'peso': dados_pokemon['weight'],\n",
    "                'id_habilidade_1': habilidades[0] if len(habilidades) > 0 else None,\n",
    "                'id_habilidade_2': habilidades[1] if len(habilidades) > 1 else None,\n",
    "                'id_tipo_1': tipos[0] if len(tipos) > 0 else None,\n",
    "                'id_tipo_2': tipos[1] if len(tipos) > 1 else None\n",
    "            })\n",
    "    \n",
    "    # Converte as colunas id_tipo_1 e id_tipo_2 para INT, garantindo que None seja tratado como NaN e depois convertendo para None\n",
    "    pokemon_df = pd.DataFrame(pokemons)\n",
    "    pokemon_df['id_tipo_1'] = pokemon_df['id_tipo_1'].astype('Int64')\n",
    "    pokemon_df['id_tipo_2'] = pokemon_df['id_tipo_2'].astype('Int64')\n",
    "    \n",
    "    return pokemon_df"
   ]
  },
  {
   "cell_type": "markdown",
   "metadata": {},
   "source": [
    "### 6. Extração dos dados de habilidades"
   ]
  },
  {
   "cell_type": "code",
   "execution_count": null,
   "metadata": {},
   "outputs": [],
   "source": [
    "def extrair_habilidades():\n",
    "    url = 'https://pokeapi.co/api/v2/ability?limit=1000'\n",
    "    dados = obter_dados_da_api(url)\n",
    "    habilidades = []\n",
    "    \n",
    "    for item in dados['results']:\n",
    "        dados_habilidade = obter_dados_da_api(item['url'])\n",
    "        if dados_habilidade:\n",
    "            habilidades.append({\n",
    "                'id': dados_habilidade['id'],\n",
    "                'nome': dados_habilidade['name'],\n",
    "                'efeito': dados_habilidade['effect_entries'][0]['effect'] if dados_habilidade['effect_entries'] else None\n",
    "            })\n",
    "    \n",
    "    return pd.DataFrame(habilidades)"
   ]
  },
  {
   "cell_type": "markdown",
   "metadata": {},
   "source": [
    "### 7. Extração dos dados de tipos"
   ]
  },
  {
   "cell_type": "code",
   "execution_count": null,
   "metadata": {},
   "outputs": [],
   "source": [
    "def extrair_tipos():\n",
    "    url = 'https://pokeapi.co/api/v2/type'\n",
    "    dados = obter_dados_da_api(url)\n",
    "    tipos = []\n",
    "    \n",
    "    for item in dados['results']:\n",
    "        dados_tipo = obter_dados_da_api(item['url'])\n",
    "        if dados_tipo:\n",
    "            tipos.append({\n",
    "                'id': dados_tipo['id'],\n",
    "                'nome': dados_tipo['name']\n",
    "            })\n",
    "    \n",
    "    return pd.DataFrame(tipos)"
   ]
  },
  {
   "cell_type": "markdown",
   "metadata": {},
   "source": [
    "### 8. Função para criar (CREATE) e popular (INSERT INTO) o banco de dados"
   ]
  },
  {
   "cell_type": "code",
   "execution_count": null,
   "metadata": {},
   "outputs": [],
   "source": [
    "def criar_e_popular_bd(pokemon_df, habilidades_df, tipos_df, db_name='../pokeapi.db'):\n",
    "    # Remover banco de dados existente, se houver\n",
    "    if os.path.exists(db_name):\n",
    "        os.remove(db_name)\n",
    "    \n",
    "    conn = sqlite3.connect(db_name)\n",
    "    cursor = conn.cursor()\n",
    "    \n",
    "    # Criar tabelas\n",
    "    cursor.execute('''\n",
    "    CREATE TABLE IF NOT EXISTS pokemons (\n",
    "        id INTEGER PRIMARY KEY,\n",
    "        nome TEXT,\n",
    "        experiencia_base INTEGER,\n",
    "        altura INTEGER,\n",
    "        peso INTEGER,\n",
    "        id_habilidade_1 INTEGER,\n",
    "        id_habilidade_2 INTEGER,\n",
    "        id_tipo_1 INTEGER,\n",
    "        id_tipo_2 INTEGER,\n",
    "        FOREIGN KEY (id_habilidade_1) REFERENCES habilidades(id),\n",
    "        FOREIGN KEY (id_habilidade_2) REFERENCES habilidades(id),\n",
    "        FOREIGN KEY (id_tipo_1) REFERENCES tipos(id),\n",
    "        FOREIGN KEY (id_tipo_2) REFERENCES tipos(id)\n",
    "    )\n",
    "    ''')\n",
    "    \n",
    "    cursor.execute('''\n",
    "    CREATE TABLE IF NOT EXISTS habilidades (\n",
    "        id INTEGER PRIMARY KEY,\n",
    "        nome TEXT,\n",
    "        efeito TEXT\n",
    "    )\n",
    "    ''')\n",
    "    \n",
    "    cursor.execute('''\n",
    "    CREATE TABLE IF NOT EXISTS tipos (\n",
    "        id INTEGER PRIMARY KEY,\n",
    "        nome TEXT\n",
    "    )\n",
    "    ''')\n",
    "    \n",
    "    # Inserir dados nas tabelas\n",
    "    pokemon_df.to_sql('pokemons', conn, if_exists='append', index=False)\n",
    "    habilidades_df.to_sql('habilidades', conn, if_exists='append', index=False)\n",
    "    tipos_df.to_sql('tipos', conn, if_exists='append', index=False)\n",
    "    \n",
    "    conn.commit()\n",
    "    conn.close()"
   ]
  },
  {
   "cell_type": "markdown",
   "metadata": {},
   "source": [
    "### 9. Executando o ETL"
   ]
  },
  {
   "cell_type": "code",
   "execution_count": null,
   "metadata": {},
   "outputs": [],
   "source": [
    "try:\n",
    "    pokemons_df = extrair_pokemons(1302)\n",
    "    habilidades_df = extrair_habilidades()\n",
    "    tipos_df = extrair_tipos()\n",
    "    \n",
    "    criar_e_popular_bd(pokemons_df, habilidades_df, tipos_df)\n",
    "    print(\"Dados extraídos e carregados no banco de dados com sucesso!\")\n",
    "except Exception as e:\n",
    "    enviar_alerta(3, \"Processo ETL\", \"Geral\")\n",
    "    print(f\"Erro no processo ETL: {e}\")"
   ]
  },
  {
   "cell_type": "markdown",
   "metadata": {},
   "source": [
    "### 10. Exemplo de erro na extração da base"
   ]
  },
  {
   "cell_type": "code",
   "execution_count": null,
   "metadata": {},
   "outputs": [],
   "source": [
    "obter_dados_da_api(\"https://pokeapi.co/api/v2/pokemon/1/v2\")"
   ]
  },
  {
   "cell_type": "markdown",
   "metadata": {},
   "source": [
    "### 11. Função para executar uma consulta e retornar um DataFrame"
   ]
  },
  {
   "cell_type": "code",
   "execution_count": null,
   "metadata": {},
   "outputs": [],
   "source": [
    "def executar_consulta(query, db_name='../pokeapi.db'):\n",
    "    conn = sqlite3.connect(db_name)\n",
    "    df = pd.read_sql_query(query, conn)\n",
    "    conn.close()\n",
    "    return df"
   ]
  },
  {
   "cell_type": "markdown",
   "metadata": {},
   "source": [
    "### 12. Visualizando as tabelas"
   ]
  },
  {
   "cell_type": "markdown",
   "metadata": {},
   "source": [
    "#### 12.1. Pokémons"
   ]
  },
  {
   "cell_type": "code",
   "execution_count": null,
   "metadata": {},
   "outputs": [],
   "source": [
    "query_pokemons = \"SELECT * FROM pokemons LIMIT 10\"\n",
    "df_pokemons = executar_consulta(query_pokemons)\n",
    "df_pokemons"
   ]
  },
  {
   "cell_type": "markdown",
   "metadata": {},
   "source": [
    "#### 12.2. Habilidades"
   ]
  },
  {
   "cell_type": "code",
   "execution_count": null,
   "metadata": {},
   "outputs": [],
   "source": [
    "query_habilidades = \"SELECT * FROM habilidades WHERE id IN (19, 34, 44, 50, 65, 66, 67, 94)\"\n",
    "df_habilidades = executar_consulta(query_habilidades)\n",
    "print(df_habilidades)"
   ]
  },
  {
   "cell_type": "markdown",
   "metadata": {},
   "source": [
    "#### 12.3. Tipos"
   ]
  },
  {
   "cell_type": "code",
   "execution_count": null,
   "metadata": {},
   "outputs": [],
   "source": [
    "query_tipos = \"SELECT * FROM tipos WHERE id IN (3.0, 4.0, 7, 10, 11, 12)\"\n",
    "df_tipos = executar_consulta(query_tipos)\n",
    "print(df_tipos)"
   ]
  },
  {
   "cell_type": "markdown",
   "metadata": {},
   "source": [
    "#### 12.4. Join"
   ]
  },
  {
   "cell_type": "code",
   "execution_count": null,
   "metadata": {},
   "outputs": [],
   "source": [
    "query_pokemon_habilidades_tipos = \"\"\"\n",
    "SELECT p.nome AS nome, p.experiencia_base AS experiencia_base, h1.nome AS habilidade_1, h2.nome AS habilidade_2, t1.nome AS tipo_1, t2.nome AS tipo_2\n",
    "FROM pokemons p\n",
    "LEFT JOIN habilidades h1 ON p.id_habilidade_1 = h1.id\n",
    "LEFT JOIN habilidades h2 ON p.id_habilidade_2 = h2.id\n",
    "LEFT JOIN tipos t1 ON p.id_tipo_1 = t1.id\n",
    "LEFT JOIN tipos t2 ON p.id_tipo_2 = t2.id\n",
    "ORDER BY p.experiencia_base DESC\n",
    "LIMIT 10\n",
    "\"\"\"\n",
    "df_pokemon_habilidades_tipos = executar_consulta(query_pokemon_habilidades_tipos)\n",
    "df_pokemon_habilidades_tipos"
   ]
  },
  {
   "cell_type": "markdown",
   "metadata": {},
   "source": [
    "### 13. Hipóteses"
   ]
  },
  {
   "cell_type": "code",
   "execution_count": null,
   "metadata": {},
   "outputs": [],
   "source": [
    "# Importando as bibliotecas de visualização de dados\n",
    "import matplotlib.pyplot as plt\n",
    "import seaborn as sns"
   ]
  },
  {
   "cell_type": "code",
   "execution_count": null,
   "metadata": {},
   "outputs": [],
   "source": [
    "# Retornando consultas com todos os dados das tabelas\n",
    "query_pokemons = \"SELECT * FROM pokemons\"\n",
    "df_pokemons = executar_consulta(query_pokemons)\n",
    "\n",
    "query_habilidades = \"SELECT * FROM habilidades\"\n",
    "df_habilidades = executar_consulta(query_habilidades)\n",
    "\n",
    "query_tipos = \"SELECT * FROM tipos\"\n",
    "df_tipos = executar_consulta(query_tipos)"
   ]
  },
  {
   "cell_type": "markdown",
   "metadata": {},
   "source": [
    "#### 13.1. Alguns tipos de Pokémons tendem a ter uma experiência base mais alta do que outros"
   ]
  },
  {
   "cell_type": "code",
   "execution_count": null,
   "metadata": {},
   "outputs": [],
   "source": [
    "# Juntando dados de pokemons e tipos\n",
    "df_pokemons_tipos = df_pokemons.merge(df_tipos, left_on='id_tipo_1', right_on='id', suffixes=('_pokemon', '_tipo'))\n",
    "\n",
    "# Plotando o gráfico violin\n",
    "plt.figure(figsize=(14, 6))\n",
    "sns.violinplot(data=df_pokemons_tipos, x='nome_tipo', y='experiencia_base')\n",
    "plt.title('Distribuição da Experiência Base por Tipo de Pokémon')\n",
    "plt.xlabel('Tipo de Pokémon')\n",
    "plt.ylabel('Experiência Base')\n",
    "plt.xticks(rotation=45)\n",
    "plt.show()"
   ]
  },
  {
   "cell_type": "markdown",
   "metadata": {},
   "source": [
    "#### 13.2. A altura e o peso dos Pokémons variam significativamente entre diferentes tipos"
   ]
  },
  {
   "cell_type": "code",
   "execution_count": null,
   "metadata": {},
   "outputs": [],
   "source": [
    "# Criar uma figura com duas subplots lado a lado\n",
    "fig, axes = plt.subplots(1, 2, figsize=(16, 8))\n",
    "\n",
    "# Gráfico de Altura Média por Tipo de Pokémon\n",
    "sns.barplot(ax=axes[0], data=df_pokemons_tipos, x='nome_tipo', y='altura')\n",
    "axes[0].set_title('Altura Média por Tipo de Pokémon')\n",
    "axes[0].set_xlabel('Tipo de Pokémon')\n",
    "axes[0].set_ylabel('Altura Média')\n",
    "axes[0].tick_params(axis='x', rotation=45)\n",
    "\n",
    "# Gráfico de Peso Médio por Tipo de Pokémon\n",
    "sns.barplot(ax=axes[1], data=df_pokemons_tipos, x='nome_tipo', y='peso')\n",
    "axes[1].set_title('Peso Médio por Tipo de Pokémon')\n",
    "axes[1].set_xlabel('Tipo de Pokémon')\n",
    "axes[1].set_ylabel('Peso Médio')\n",
    "axes[1].tick_params(axis='x', rotation=45)\n",
    "\n",
    "# Ajustar o layout para evitar sobreposição\n",
    "plt.tight_layout()\n",
    "\n",
    "# Mostrar a figura com os gráficos\n",
    "plt.show()"
   ]
  },
  {
   "cell_type": "code",
   "execution_count": null,
   "metadata": {},
   "outputs": [],
   "source": [
    "# Consulta SQL para trazer a média da altura e a média do peso por tipo de Pokémon\n",
    "query_media_altura_peso_por_tipo = \"\"\"\n",
    "SELECT \n",
    "    t.nome AS tipo,\n",
    "    AVG(p.altura) AS altura_media,\n",
    "    AVG(p.peso) AS peso_medio\n",
    "FROM pokemons p\n",
    "JOIN tipos t ON p.id_tipo_1 = t.id\n",
    "GROUP BY t.nome\n",
    "\"\"\"\n",
    "\n",
    "# Executar a consulta\n",
    "df_media_altura_peso = executar_consulta(query_media_altura_peso_por_tipo)\n",
    "\n",
    "# Mostrar os resultados\n",
    "print(df_media_altura_peso)"
   ]
  },
  {
   "cell_type": "code",
   "execution_count": null,
   "metadata": {},
   "outputs": [],
   "source": []
  }
 ],
 "metadata": {
  "kernelspec": {
   "display_name": "coder-python",
   "language": "python",
   "name": "python3"
  },
  "language_info": {
   "codemirror_mode": {
    "name": "ipython",
    "version": 3
   },
   "file_extension": ".py",
   "mimetype": "text/x-python",
   "name": "python",
   "nbconvert_exporter": "python",
   "pygments_lexer": "ipython3",
   "version": "3.12.3"
  }
 },
 "nbformat": 4,
 "nbformat_minor": 2
}
