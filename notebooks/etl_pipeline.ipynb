{
 "cells": [
  {
   "cell_type": "markdown",
   "metadata": {},
   "source": [
    "### 1. Instalação das bibliotecas necessárias"
   ]
  },
  {
   "cell_type": "code",
   "execution_count": 1,
   "metadata": {},
   "outputs": [
    {
     "name": "stdout",
     "output_type": "stream",
     "text": [
      "Requirement already satisfied: requests in c:\\users\\matheus.vaz_onovomer\\anaconda3\\envs\\coder-python\\lib\\site-packages (2.32.3)\n",
      "Requirement already satisfied: pandas in c:\\users\\matheus.vaz_onovomer\\anaconda3\\envs\\coder-python\\lib\\site-packages (2.2.2)\n",
      "Requirement already satisfied: plyer in c:\\users\\matheus.vaz_onovomer\\anaconda3\\envs\\coder-python\\lib\\site-packages (2.1.0)\n",
      "Requirement already satisfied: charset-normalizer<4,>=2 in c:\\users\\matheus.vaz_onovomer\\anaconda3\\envs\\coder-python\\lib\\site-packages (from requests) (3.3.2)\n",
      "Requirement already satisfied: idna<4,>=2.5 in c:\\users\\matheus.vaz_onovomer\\anaconda3\\envs\\coder-python\\lib\\site-packages (from requests) (3.7)\n",
      "Requirement already satisfied: urllib3<3,>=1.21.1 in c:\\users\\matheus.vaz_onovomer\\anaconda3\\envs\\coder-python\\lib\\site-packages (from requests) (2.2.1)\n",
      "Requirement already satisfied: certifi>=2017.4.17 in c:\\users\\matheus.vaz_onovomer\\anaconda3\\envs\\coder-python\\lib\\site-packages (from requests) (2024.6.2)\n",
      "Requirement already satisfied: numpy>=1.26.0 in c:\\users\\matheus.vaz_onovomer\\anaconda3\\envs\\coder-python\\lib\\site-packages (from pandas) (1.26.4)\n",
      "Requirement already satisfied: python-dateutil>=2.8.2 in c:\\users\\matheus.vaz_onovomer\\appdata\\roaming\\python\\python312\\site-packages (from pandas) (2.8.2)\n",
      "Requirement already satisfied: pytz>=2020.1 in c:\\users\\matheus.vaz_onovomer\\anaconda3\\envs\\coder-python\\lib\\site-packages (from pandas) (2024.1)\n",
      "Requirement already satisfied: tzdata>=2022.7 in c:\\users\\matheus.vaz_onovomer\\anaconda3\\envs\\coder-python\\lib\\site-packages (from pandas) (2024.1)\n",
      "Requirement already satisfied: six>=1.5 in c:\\users\\matheus.vaz_onovomer\\appdata\\roaming\\python\\python312\\site-packages (from python-dateutil>=2.8.2->pandas) (1.16.0)\n",
      "Note: you may need to restart the kernel to use updated packages.\n"
     ]
    }
   ],
   "source": [
    "%pip install requests pandas plyer"
   ]
  },
  {
   "cell_type": "markdown",
   "metadata": {},
   "source": [
    "### 2. Importação das bibliotecas"
   ]
  },
  {
   "cell_type": "code",
   "execution_count": 2,
   "metadata": {},
   "outputs": [],
   "source": [
    "import requests\n",
    "import pandas as pd\n",
    "import sqlite3\n",
    "from plyer import notification\n",
    "from datetime import datetime"
   ]
  },
  {
   "cell_type": "markdown",
   "metadata": {},
   "source": [
    "### 3. Def de criação do alerta"
   ]
  },
  {
   "cell_type": "code",
   "execution_count": 3,
   "metadata": {},
   "outputs": [],
   "source": [
    "def alerta(nivel, base, etapa):\n",
    "  if nivel == 1:\n",
    "    alerta = 'Baixo'\n",
    "  elif nivel == 2:\n",
    "    alerta = 'Médio'\n",
    "  else:\n",
    "    alerta = 'Alto'\n",
    "\n",
    "  title = f\"Alerta {alerta}\"\n",
    "  message = f\"Falha no carregamento da base {base} na etapa {etapa} - {datetime.now()}\"\n",
    "  notification.notify(\n",
    "    title=title,\n",
    "    message=message,\n",
    "    app_name=\"etl_pipeline\",\n",
    "    timeout=10\n",
    "  )"
   ]
  },
  {
   "cell_type": "markdown",
   "metadata": {},
   "source": [
    "### 4. Def para extrair dados da API"
   ]
  },
  {
   "cell_type": "code",
   "execution_count": 4,
   "metadata": {},
   "outputs": [],
   "source": [
    "def extrair_dados_da_api(url):\n",
    "    response = requests.get(url)\n",
    "    if response.status_code == 200:\n",
    "        return response.json()\n",
    "    else:\n",
    "        alerta(3, \"PokeAPI\", \"Extração\")\n",
    "        raise Exception(f\"Falha ao buscar dados da API. Código de status: {response.status_code}\")"
   ]
  },
  {
   "cell_type": "markdown",
   "metadata": {},
   "source": [
    "### 5. Def para extrair dados detalhados dos Pokemóns"
   ]
  },
  {
   "cell_type": "code",
   "execution_count": 5,
   "metadata": {},
   "outputs": [],
   "source": [
    "def extrair_detalhes_pokemon(url):\n",
    "    data = extrair_dados_da_api(url)\n",
    "    habilidades = [habilidade['ability']['name'] for habilidade in data['abilities']]\n",
    "    return habilidades"
   ]
  },
  {
   "cell_type": "markdown",
   "metadata": {},
   "source": [
    "### 6. Def para extrair 3 tabelas da API e relacionar dados"
   ]
  },
  {
   "cell_type": "code",
   "execution_count": 6,
   "metadata": {},
   "outputs": [],
   "source": [
    "def extrair_tabelas(base_url):\n",
    "    pokemons_data = extrair_dados_da_api(f\"{base_url}/pokemon?limit=10\")\n",
    "    habilidades_list = []\n",
    "    \n",
    "    for pokemon in pokemons_data['results']:\n",
    "        habilidades = extrair_detalhes_pokemon(pokemon['url'])\n",
    "        habilidades_list.append(habilidades)\n",
    "    \n",
    "    linguagens_data = extrair_dados_da_api(f\"{base_url}/language\")\n",
    "    linguagens_list = linguagens_data['results']\n",
    "    \n",
    "    df_pokemons = pd.DataFrame(pokemons_data['results'])\n",
    "    df_habilidades = pd.DataFrame(habilidades_list, columns=[f'habilidade_{i+1}' for i in range(len(habilidades_list[0]))])\n",
    "    df_linguagens = pd.DataFrame(linguagens_list)\n",
    "    \n",
    "    return df_pokemons, df_habilidades, df_linguagens"
   ]
  },
  {
   "cell_type": "markdown",
   "metadata": {},
   "source": [
    "### 7. Def para carregar os dados no banco de dados"
   ]
  },
  {
   "cell_type": "code",
   "execution_count": 7,
   "metadata": {},
   "outputs": [],
   "source": [
    "def carregar_dados_para_db(df, db_name=\"../pokeapi_data.db\", table_name=\"tabela\"):\n",
    "    conn = sqlite3.connect(db_name)\n",
    "    df.to_sql(table_name, conn, if_exists='replace', index=False)\n",
    "    conn.close()\n",
    "    print(f\"Dados carregados para {db_name} na tabela {table_name}\")"
   ]
  },
  {
   "cell_type": "markdown",
   "metadata": {},
   "source": [
    "### 8. Execução da extração, transformação e carga dos dados"
   ]
  },
  {
   "cell_type": "code",
   "execution_count": 8,
   "metadata": {},
   "outputs": [],
   "source": [
    "url = \"https://pokeapi.co/api/v2\""
   ]
  },
  {
   "cell_type": "code",
   "execution_count": 9,
   "metadata": {},
   "outputs": [],
   "source": [
    "# Extração dos dados\n",
    "df_pokemons, df_habilidades, df_linguagens = extrair_tabelas(url)"
   ]
  },
  {
   "cell_type": "code",
   "execution_count": 10,
   "metadata": {},
   "outputs": [
    {
     "name": "stdout",
     "output_type": "stream",
     "text": [
      "Dados carregados para ../pokeapi_data.db na tabela pokemons\n",
      "Dados carregados para ../pokeapi_data.db na tabela habilidades\n",
      "Dados carregados para ../pokeapi_data.db na tabela linguagens\n"
     ]
    }
   ],
   "source": [
    "# Carregar dados no banco de dados\n",
    "carregar_dados_para_db(df_pokemons, db_name=\"../pokeapi_data.db\", table_name=\"pokemons\")\n",
    "carregar_dados_para_db(df_habilidades, db_name=\"../pokeapi_data.db\", table_name=\"habilidades\")\n",
    "carregar_dados_para_db(df_linguagens, db_name=\"../pokeapi_data.db\", table_name=\"linguagens\")"
   ]
  },
  {
   "cell_type": "markdown",
   "metadata": {},
   "source": [
    "#### 9. Visualização dos dados usando queries SQL"
   ]
  },
  {
   "cell_type": "code",
   "execution_count": 11,
   "metadata": {},
   "outputs": [],
   "source": [
    "def executar_query(query, db_name=\"../pokeapi_data.db\"):\n",
    "    conn = sqlite3.connect(db_name)\n",
    "    df = pd.read_sql_query(query, conn)\n",
    "    conn.close()\n",
    "    return df"
   ]
  },
  {
   "cell_type": "code",
   "execution_count": 12,
   "metadata": {},
   "outputs": [
    {
     "name": "stdout",
     "output_type": "stream",
     "text": [
      "         name                                   url\n",
      "0   bulbasaur  https://pokeapi.co/api/v2/pokemon/1/\n",
      "1     ivysaur  https://pokeapi.co/api/v2/pokemon/2/\n",
      "2    venusaur  https://pokeapi.co/api/v2/pokemon/3/\n",
      "3  charmander  https://pokeapi.co/api/v2/pokemon/4/\n",
      "4  charmeleon  https://pokeapi.co/api/v2/pokemon/5/\n"
     ]
    }
   ],
   "source": [
    "# Dados da tabela Pokemóns\n",
    "query_pokemons = \"SELECT * FROM pokemons\"\n",
    "df_pokemons_query = executar_query(query_pokemons)\n",
    "print(df_pokemons_query.head())"
   ]
  },
  {
   "cell_type": "code",
   "execution_count": 13,
   "metadata": {},
   "outputs": [
    {
     "name": "stdout",
     "output_type": "stream",
     "text": [
      "  habilidade_1 habilidade_2\n",
      "0     overgrow  chlorophyll\n",
      "1     overgrow  chlorophyll\n",
      "2     overgrow  chlorophyll\n",
      "3        blaze  solar-power\n",
      "4        blaze  solar-power\n"
     ]
    }
   ],
   "source": [
    "# Dados da tabela Habilidades\n",
    "query_habilidades = \"SELECT * FROM habilidades\"\n",
    "df_habilidades_query = executar_query(query_habilidades)\n",
    "print(df_habilidades_query.head())"
   ]
  },
  {
   "cell_type": "code",
   "execution_count": 14,
   "metadata": {},
   "outputs": [
    {
     "name": "stdout",
     "output_type": "stream",
     "text": [
      "      name                                    url\n",
      "0  ja-Hrkt  https://pokeapi.co/api/v2/language/1/\n",
      "1  roomaji  https://pokeapi.co/api/v2/language/2/\n",
      "2       ko  https://pokeapi.co/api/v2/language/3/\n",
      "3  zh-Hant  https://pokeapi.co/api/v2/language/4/\n",
      "4       fr  https://pokeapi.co/api/v2/language/5/\n"
     ]
    }
   ],
   "source": [
    "# Dados da tabela Linguagens\n",
    "query_linguagens = \"SELECT * FROM linguagens\"\n",
    "df_linguagens_query = executar_query(query_linguagens)\n",
    "print(df_linguagens_query.head())"
   ]
  },
  {
   "cell_type": "code",
   "execution_count": null,
   "metadata": {},
   "outputs": [],
   "source": []
  }
 ],
 "metadata": {
  "kernelspec": {
   "display_name": "coder-python",
   "language": "python",
   "name": "python3"
  },
  "language_info": {
   "codemirror_mode": {
    "name": "ipython",
    "version": 3
   },
   "file_extension": ".py",
   "mimetype": "text/x-python",
   "name": "python",
   "nbconvert_exporter": "python",
   "pygments_lexer": "ipython3",
   "version": "3.12.3"
  }
 },
 "nbformat": 4,
 "nbformat_minor": 2
}
